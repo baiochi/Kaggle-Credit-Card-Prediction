{
 "cells": [
  {
   "cell_type": "markdown",
   "metadata": {},
   "source": [
    "# Regressão Linear Múltipla  \n",
    "---  "
   ]
  },
  {
   "cell_type": "markdown",
   "metadata": {},
   "source": [
    "<font color='cyan'>author</font> João Baiochi  \n",
    "<font color='cyan'>github</font> <a href='https://github.com/baiochi'>@baiochi</a>"
   ]
  },
  {
   "cell_type": "code",
   "execution_count": null,
   "metadata": {},
   "outputs": [],
   "source": [
    "# Data handling\n",
    "import numpy as np\n",
    "import pandas as pd\n",
    "# Data visualization\n",
    "import matplotlib.pyplot as plt\n",
    "import seaborn as sns\n",
    "\n",
    "# Statistics\n",
    "from scipy.stats import normaltest, pearsonr\n",
    "\n",
    "# Machine Learning\n",
    "import statsmodels.api as sm\n",
    "from sklearn.linear_model import LinearRegression\n",
    "from sklearn.metrics import r2_score, mean_squared_error\n",
    "from sklearn.model_selection import train_test_split\n",
    "\n",
    "# terminal colors\n",
    "WHITE = '\\033[39m'\n",
    "CYAN = '\\033[36m'\n",
    "GREEN = '\\033[32m'\n",
    "RED = '\\033[31m'\n",
    "\n",
    "# color pallete\n",
    "colors ={\n",
    "    'cyan': '#1696d2',\n",
    "    'gray': '#5c5859',\n",
    "    'black': '#000000',\n",
    "    'yellow': '#fdbf11',\n",
    "    'orange': '#ca5800',\n",
    "    'magenta': '#af1f6b',\n",
    "    'green': '#408941',\n",
    "    'red': '#a4201d'\n",
    "}\n",
    "\n",
    "# setups\n",
    "sns.set()\n",
    "\n",
    "# libraries version\n",
    "print(f'Numpy: {np.__version__}')\n",
    "print(f'Pandas: {pd.__version__}')\n",
    "print(f'Seaborn: {sns.__version__}')\n",
    "print(f'Statsmodels.api: {sm.__version__}')"
   ]
  },
  {
   "cell_type": "markdown",
   "metadata": {},
   "source": [
    "## 1. Previsão do Saldo Médio do Cartão de Crédito"
   ]
  },
  {
   "cell_type": "markdown",
   "metadata": {},
   "source": [
    "Neste case, você deverá aplicar a regressão linear múltipla para **estimar o saldo médido** do cartão de crédito de clientes de um banco, a partir das demais informações contidas no conjunto de dados (credit_regression.csv), os quais são descritos abaixo. Aplique a regressão linear, utilizando o LinearRegression do sklearn e, também, o OLS do statsmodels.  \n",
    "\n",
    "- ID - Identificação  \n",
    "- Income - Renda  \n",
    "- Limit - Limite de crédito  \n",
    "- Rating - Score do Serasa  \n",
    "- Age - Idade  \n",
    "- Education - Anos de educação  \n",
    "- Gender - Gênero  \n",
    "- Student - É estudante? (Sim ou Não)  \n",
    "- Married - É casado(a)? (Sim ou Não)  \n",
    "- Ethnicity - Afro-americano, asiático ou branco  \n",
    "- Balance - Saldo médio do cartão de crédito em dólares  \n"
   ]
  },
  {
   "cell_type": "markdown",
   "metadata": {},
   "source": [
    "Dados adicionais  \n",
    "\n",
    "- Credit card Balance refers to the average monthly balance across all of the cards owned by a cardholder. \n",
    "This assumption was made as a result of the Cards variable which refers to the number of credit cards owned by a person and has only one associated Balance figure.  \n",
    "- The Balance is calculated as the highest amount incurred on a credit card in a given month. \n",
    "For example if a cardholder spends $400, $500, and $600 over the course of three months, and each month pays the balance in full, the average balance will be recorded as $500 (i.e. any preliminary balances before the maximum are not taken into account, neither is the final balance of zero).  "
   ]
  },
  {
   "cell_type": "markdown",
   "metadata": {},
   "source": [
    "### <span style='color:Gold'>Analisando o Dataset"
   ]
  },
  {
   "cell_type": "markdown",
   "metadata": {},
   "source": [
    "#### Leitura e verificação do Dataset"
   ]
  },
  {
   "cell_type": "code",
   "execution_count": null,
   "metadata": {},
   "outputs": [],
   "source": [
    "df = pd.read_csv('https://s3-sa-east-1.amazonaws.com/lcpi/ab0a9e91-89d1-4897-b384-51a86c50b804.csv')\n",
    "df.head()"
   ]
  },
  {
   "cell_type": "markdown",
   "metadata": {},
   "source": [
    "Verificando os valores da primeira coluna (ID)"
   ]
  },
  {
   "cell_type": "code",
   "execution_count": null,
   "metadata": {},
   "outputs": [],
   "source": [
    "df['Unnamed: 0'].nunique(), df['Unnamed: 0'].min(), df['Unnamed: 0'].max()"
   ]
  },
  {
   "cell_type": "markdown",
   "metadata": {},
   "source": [
    "Transformando a coluna ID do Data Frame para o index"
   ]
  },
  {
   "cell_type": "code",
   "execution_count": null,
   "metadata": {},
   "outputs": [],
   "source": [
    "df.rename(columns={'Unnamed: 0': 'ID'}, inplace=True)\n",
    "df.set_index('ID', drop=True, inplace=True)\n",
    "df.head()"
   ]
  },
  {
   "cell_type": "markdown",
   "metadata": {},
   "source": [
    "Verificando os tipos dos dados"
   ]
  },
  {
   "cell_type": "code",
   "execution_count": null,
   "metadata": {},
   "outputs": [],
   "source": [
    "df.dtypes"
   ]
  },
  {
   "cell_type": "markdown",
   "metadata": {},
   "source": [
    "Alterando o tipo das variáveis categóricas para **category**"
   ]
  },
  {
   "cell_type": "code",
   "execution_count": null,
   "metadata": {},
   "outputs": [],
   "source": [
    "df.Gender = df.Gender.astype('category')\n",
    "df.Student = df.Student.astype('category')\n",
    "df.Married = df.Married.astype('category')\n",
    "df.Ethnicity = df.Ethnicity.astype('category')"
   ]
  },
  {
   "cell_type": "markdown",
   "metadata": {},
   "source": [
    "Separando as variáveis em numéricas e categóricas"
   ]
  },
  {
   "cell_type": "code",
   "execution_count": null,
   "metadata": {},
   "outputs": [],
   "source": [
    "categorical_data = df.select_dtypes(include=['category']).columns\n",
    "numerical_data = df.select_dtypes(include=['int64','float64']).columns\n",
    "print(f'Variáveis numéricas: {numerical_data.values}')\n",
    "print(f'Variáveis categóricas: {categorical_data.values}')"
   ]
  },
  {
   "cell_type": "markdown",
   "metadata": {},
   "source": [
    "Checando os valores categóricos"
   ]
  },
  {
   "cell_type": "code",
   "execution_count": null,
   "metadata": {},
   "outputs": [],
   "source": [
    "df.describe(include=['category']).T"
   ]
  },
  {
   "cell_type": "markdown",
   "metadata": {},
   "source": [
    "Checando os valores categóricos"
   ]
  },
  {
   "cell_type": "code",
   "execution_count": null,
   "metadata": {},
   "outputs": [],
   "source": [
    "df.describe().T"
   ]
  },
  {
   "cell_type": "markdown",
   "metadata": {},
   "source": [
    "Checando valores nulos"
   ]
  },
  {
   "cell_type": "code",
   "execution_count": null,
   "metadata": {},
   "outputs": [],
   "source": [
    "df.isnull().sum()"
   ]
  },
  {
   "cell_type": "markdown",
   "metadata": {},
   "source": [
    "#### Analisando a variável da predição <span style='color:DodgerBlue'>Balance</span>"
   ]
  },
  {
   "cell_type": "code",
   "execution_count": null,
   "metadata": {},
   "outputs": [],
   "source": [
    "fig, ax = plt.subplots(1,2,figsize=(12,6))\n",
    "sns.histplot(data=df, x='Balance', kde=True, ax=ax[0], color=colors['cyan'])\n",
    "ax[0].set_title('Balance (bins=auto)', fontsize=18, pad=15)\n",
    "sns.histplot(data=df, x='Balance', kde=True, bins=50, ax=ax[1], color=colors['gray'])\n",
    "ax[1].set_title('Balance (bins=50)', fontsize=18, pad=15);"
   ]
  },
  {
   "cell_type": "markdown",
   "metadata": {},
   "source": [
    "Visualizando os dados para valores de **Balance** > 0"
   ]
  },
  {
   "cell_type": "code",
   "execution_count": null,
   "metadata": {},
   "outputs": [],
   "source": [
    "sns.histplot(data=df.query('Balance > 0'), x='Balance', kde=True, color=colors['cyan'])\n",
    "plt.title('Balance > 0 distribuition (bins=auto)', fontsize=18, pad=20);"
   ]
  },
  {
   "cell_type": "code",
   "execution_count": null,
   "metadata": {},
   "outputs": [],
   "source": [
    "print(f'Balance = 0 : {df.query(\"Balance == 0\").shape[0]}')\n",
    "print(f'Balance > 0 : {df.query(\"Balance > 0\").shape[0]}')"
   ]
  },
  {
   "cell_type": "markdown",
   "metadata": {},
   "source": [
    "Podemos observar que muitos dados da coluna **Balance** estão com valores zerados. Isso pode significar que o usuário não utiliza o cartão de crédito, e isso pode prejudicar nosso modelo.\n",
    "\n",
    "Portanto iremos adicionar uma coluna **Credit_Client** que identifica se o usuário faz uso do cartão:"
   ]
  },
  {
   "cell_type": "code",
   "execution_count": null,
   "metadata": {},
   "outputs": [],
   "source": [
    "df['Credit_Client'] = np.where(df['Balance']>0, 'Yes', 'No')\n",
    "df['Credit_Client'] = df['Credit_Client'].astype('category')\n",
    "df.head()"
   ]
  },
  {
   "cell_type": "markdown",
   "metadata": {},
   "source": [
    "#### Correlação dos Dados"
   ]
  },
  {
   "cell_type": "markdown",
   "metadata": {},
   "source": [
    "Plotando um Heatmap para visualizar a correlação"
   ]
  },
  {
   "cell_type": "code",
   "execution_count": null,
   "metadata": {},
   "outputs": [],
   "source": [
    "plt.figure(figsize=(8,6))\n",
    "sns.heatmap(df.corr(), cmap='coolwarm', annot=True, vmin=-1, vmax=1);"
   ]
  },
  {
   "cell_type": "markdown",
   "metadata": {},
   "source": [
    "Checando se a correlação tem significância estatística:\n",
    "- Balance x Income = 0.46\n",
    "- Balance x Limit = 0.86\n",
    "- Balance x Rating = 0.86\n",
    "- Income x Limit = 0.79\n",
    "- Income x Rating = 0.79\n",
    "- Limit X Rating = 1"
   ]
  },
  {
   "cell_type": "code",
   "execution_count": null,
   "metadata": {},
   "outputs": [],
   "source": [
    "for category in ['Income','Limit', 'Rating']:\n",
    "    r, p = pearsonr(df.Balance, df[category])\n",
    "    print(f'Balance-{category} coef={r}; p-value={p}')\n",
    "\n",
    "for category in ['Limit', 'Rating']:\n",
    "    r, p = pearsonr(df.Income, df[category])\n",
    "    print(f'Income-{category} coef={r}; p-value={p}')\n",
    "    \n",
    "r, p = pearsonr(df.Limit, df.Rating)\n",
    "print(f'Limit-Rating coef={r}; p-value={p}')"
   ]
  },
  {
   "cell_type": "code",
   "execution_count": null,
   "metadata": {},
   "outputs": [],
   "source": [
    "sns.regplot(data=df, x='Limit', y='Rating',\n",
    "           scatter_kws={'alpha':0.5}, line_kws={'color':colors['gray']})"
   ]
  },
  {
   "cell_type": "markdown",
   "metadata": {},
   "source": []
  },
  {
   "cell_type": "code",
   "execution_count": null,
   "metadata": {},
   "outputs": [],
   "source": [
    "f, axes = plt.subplots(2, 2, figsize=(15, 6))\n",
    "f.subplots_adjust(hspace=.3, wspace=.25)\n",
    "df.groupby('Gender').Balance.plot(kind='kde', ax=axes[0][0], legend=True, title='Balance by Gender')\n",
    "df.groupby('Student').Balance.plot(kind='kde', ax=axes[0][1], legend=True, title='Balance by Student')\n",
    "df.groupby('Married').Balance.plot(kind='kde', ax=axes[1][0], legend=True, title='Balance by Married')\n",
    "df.groupby('Ethnicity').Balance.plot(kind='kde', ax=axes[1][1], legend=True, title='Balance by Ethnicity')"
   ]
  },
  {
   "cell_type": "markdown",
   "metadata": {},
   "source": [
    "#### Pair Plot"
   ]
  },
  {
   "cell_type": "code",
   "execution_count": null,
   "metadata": {},
   "outputs": [],
   "source": [
    "sns.pairplot(df, hue='Student')"
   ]
  },
  {
   "cell_type": "markdown",
   "metadata": {},
   "source": [
    "#### Boxplot"
   ]
  },
  {
   "cell_type": "code",
   "execution_count": null,
   "metadata": {},
   "outputs": [],
   "source": [
    "sns.boxplot(data=df[numerical_data])"
   ]
  },
  {
   "cell_type": "code",
   "execution_count": null,
   "metadata": {},
   "outputs": [],
   "source": [
    "sns.boxplot(data=df.select_dtypes(include=['int64']))"
   ]
  },
  {
   "cell_type": "markdown",
   "metadata": {},
   "source": [
    "#### Correlation Plot"
   ]
  },
  {
   "cell_type": "code",
   "execution_count": null,
   "metadata": {},
   "outputs": [],
   "source": [
    "df.corr()"
   ]
  },
  {
   "cell_type": "markdown",
   "metadata": {},
   "source": [
    "### <span style='color:Gold'>Aplicando a Regressão Linear Multipla"
   ]
  },
  {
   "cell_type": "code",
   "execution_count": null,
   "metadata": {},
   "outputs": [],
   "source": [
    "def create_model_LR(df, features, predict):\n",
    "    # Set variables\n",
    "    if predict in features:\n",
    "        X = df[features].drop(predict, axis=1)\n",
    "        print(X.head())\n",
    "    else:\n",
    "        X = df[features]\n",
    "        \n",
    "    y = df[predict]\n",
    "    # Train model\n",
    "    lr = LinearRegression().fit(X,y)\n",
    "    # Predict model\n",
    "    y_est = lr.predict(X)\n",
    "    # Results\n",
    "    print('Coef: ', lr.coef_)\n",
    "    print('Intercept: ', lr.intercept_)\n",
    "    print('Score: ', lr.score(X,y))\n",
    "\n",
    "    return lr\n",
    "\n",
    "\n",
    "def create_model_SM(df, predict):\n",
    "    # Set variables\n",
    "    X = df.drop(predict, axis=1)\n",
    "    y = df[predict]\n",
    "\n",
    "    x = sm.add_constant(X)\n",
    "    model = sm.OLS(y, x).fit()\n",
    "    print(model.summary())\n",
    "    print(f'Model mean: {model.resid.mean()}')\n",
    "\n",
    "    fig, axes = plt.subplots(1,2,figsize=(12,6))\n",
    "    sns.scatterplot(y, model.resid, ax=axes[0])\n",
    "    sns.histplot(model2.resid, kde=True, ax=axes[1])\n",
    "\n",
    "    return model\n"
   ]
  },
  {
   "cell_type": "code",
   "execution_count": null,
   "metadata": {},
   "outputs": [],
   "source": [
    "df2 = df.copy()\n",
    "\n",
    "df2 = df2[df2.Balance!=0]"
   ]
  },
  {
   "cell_type": "code",
   "execution_count": null,
   "metadata": {},
   "outputs": [],
   "source": [
    "df2_dummies = pd.get_dummies(df2)"
   ]
  },
  {
   "cell_type": "code",
   "execution_count": null,
   "metadata": {},
   "outputs": [],
   "source": [
    "model = create_model_SM(df2_dummies, 'Balance')\n"
   ]
  },
  {
   "cell_type": "code",
   "execution_count": null,
   "metadata": {},
   "outputs": [],
   "source": [
    "model2 = create_model_SM(df2_dummies.drop('Education', axis=1), 'Balance')"
   ]
  },
  {
   "cell_type": "code",
   "execution_count": null,
   "metadata": {},
   "outputs": [],
   "source": [
    "normaltest(model2.resid)[1]"
   ]
  },
  {
   "cell_type": "code",
   "execution_count": null,
   "metadata": {},
   "outputs": [],
   "source": [
    "sns.jointplot(data=df2_dummies, x='Limit', y='Balance', kind='reg')"
   ]
  },
  {
   "cell_type": "code",
   "execution_count": null,
   "metadata": {},
   "outputs": [],
   "source": [
    "df_log = df2_dummies.copy()"
   ]
  },
  {
   "cell_type": "code",
   "execution_count": null,
   "metadata": {},
   "outputs": [],
   "source": [
    "df_log[numerical_data] = df_log[numerical_data].apply(lambda x : np.log(x))"
   ]
  },
  {
   "cell_type": "code",
   "execution_count": null,
   "metadata": {},
   "outputs": [],
   "source": [
    "X_final = df_log.drop('Balance', axis=1)\n",
    "y_final = df_log.Balance\n",
    "\n",
    "X_train, X_test, y_train, y_test = train_test_split(X_final, y_final, test_size=0.3, random_state=101)"
   ]
  },
  {
   "cell_type": "code",
   "execution_count": null,
   "metadata": {},
   "outputs": [],
   "source": [
    "lr = LinearRegression().fit(X_train, y_train)\n",
    "y_pred = np.exp(lr.predict(X_test))\n",
    "y_true = np.exp(y_test)\n",
    "r2_score(y_true, y_pred)"
   ]
  },
  {
   "cell_type": "code",
   "execution_count": null,
   "metadata": {},
   "outputs": [],
   "source": [
    "lr.score(X_train, y_train)"
   ]
  },
  {
   "cell_type": "markdown",
   "metadata": {},
   "source": [
    "#### Preparando as variáveis\n",
    "X = Limit, Rating, Cards, Age, Education  \n",
    "y = Balance  "
   ]
  },
  {
   "cell_type": "code",
   "execution_count": null,
   "metadata": {},
   "outputs": [],
   "source": [
    "X = df[numerical_data].drop('Balance',axis=1)\n",
    "X.head()"
   ]
  },
  {
   "cell_type": "code",
   "execution_count": null,
   "metadata": {},
   "outputs": [],
   "source": [
    "y = df['Balance']\n",
    "y.head()"
   ]
  },
  {
   "cell_type": "markdown",
   "metadata": {},
   "source": [
    "#### LinearRegression"
   ]
  },
  {
   "cell_type": "code",
   "execution_count": null,
   "metadata": {},
   "outputs": [],
   "source": [
    "# Train model\n",
    "lr_inital = LinearRegression().fit(X,y)\n",
    "# Predict model\n",
    "y_est_initial = lr_inital.predict(X)"
   ]
  },
  {
   "cell_type": "code",
   "execution_count": null,
   "metadata": {},
   "outputs": [],
   "source": [
    "lr_inital.coef_ , lr_inital.intercept_"
   ]
  },
  {
   "cell_type": "code",
   "execution_count": null,
   "metadata": {},
   "outputs": [],
   "source": [
    "lr_inital.score(X,y)"
   ]
  },
  {
   "cell_type": "markdown",
   "metadata": {},
   "source": [
    "#### Statsmodels"
   ]
  },
  {
   "cell_type": "code",
   "execution_count": null,
   "metadata": {},
   "outputs": [],
   "source": [
    "x = sm.add_constant(X)\n",
    "\n",
    "model = sm.OLS(y, x).fit()\n",
    "\n",
    "model.summary()"
   ]
  },
  {
   "cell_type": "markdown",
   "metadata": {},
   "source": [
    "#### Analisando o Erro da Regressão"
   ]
  },
  {
   "cell_type": "code",
   "execution_count": null,
   "metadata": {},
   "outputs": [],
   "source": [
    "model.resid\n",
    "plt.plot(model.resid)"
   ]
  },
  {
   "cell_type": "code",
   "execution_count": null,
   "metadata": {},
   "outputs": [],
   "source": [
    "model.resid.mean()"
   ]
  },
  {
   "cell_type": "code",
   "execution_count": null,
   "metadata": {},
   "outputs": [],
   "source": [
    "sns.histplot(model.resid, kde=True)"
   ]
  },
  {
   "cell_type": "code",
   "execution_count": null,
   "metadata": {},
   "outputs": [],
   "source": [
    "plt.scatter(y, model.resid)"
   ]
  },
  {
   "cell_type": "markdown",
   "metadata": {},
   "source": [
    "## 2. Estimando o Preço de Venda de Casas\n"
   ]
  },
  {
   "cell_type": "markdown",
   "metadata": {},
   "source": [
    "O arquivo usa_housing.csv consiste em um dataset que contém informações sobre o preço de casas em determinadas regiões dos Estados Unidos. Uma descrição das colunas desse dataframes é apresentada abaixo:  \n",
    "  \n",
    "- Avg. Area Income: Média da renda dos residentes de onde a casa está localizada.  \n",
    "- Avg. Area House Age: Média de idade das casas da mesma cidade.  \n",
    "- Avg. Area Number of Rooms: Número médio de quartos para casas na mesma cidade.  \n",
    "- Avg. Area Number of Bedrooms: Número médio de quartos para casas na mesma cidade.  \n",
    "- Area Population: A população da cidade onde a casa está localizada.  \n",
    "- Price: Preço de venda da casa.  \n",
    "- Address: Endereço da casa.  \n",
    "Utilize os dados contidos nele para criar um modelo de regressão linear que seja capaz de estimar o preço de venda das casas.  "
   ]
  },
  {
   "cell_type": "markdown",
   "metadata": {},
   "source": [
    "### Analisando o Dataset"
   ]
  },
  {
   "cell_type": "code",
   "execution_count": null,
   "metadata": {},
   "outputs": [],
   "source": [
    "df2 = pd.read_csv('https://s3-sa-east-1.amazonaws.com/lcpi/7cf57d48-ac3d-4748-9d81-5b4d6677fcff.csv')\n",
    "df2.head()"
   ]
  }
 ],
 "metadata": {
  "interpreter": {
   "hash": "b3ba2566441a7c06988d0923437866b63cedc61552a5af99d1f4fb67d367b25f"
  },
  "kernelspec": {
   "display_name": "Python 3.8.8 64-bit (conda)",
   "language": "python",
   "name": "python3"
  },
  "language_info": {
   "codemirror_mode": {
    "name": "ipython",
    "version": 3
   },
   "file_extension": ".py",
   "mimetype": "text/x-python",
   "name": "python",
   "nbconvert_exporter": "python",
   "pygments_lexer": "ipython3",
   "version": "3.9.7"
  },
  "orig_nbformat": 4
 },
 "nbformat": 4,
 "nbformat_minor": 2
}
